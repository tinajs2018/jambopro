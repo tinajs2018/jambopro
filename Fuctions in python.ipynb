{
 "cells": [
  {
   "cell_type": "code",
   "execution_count": 2,
   "id": "db8cec10",
   "metadata": {},
   "outputs": [
    {
     "name": "stdout",
     "output_type": "stream",
     "text": [
      "the best we can do is always win  and learn that all\n"
     ]
    }
   ],
   "source": [
    " def fun():\n",
    "        print('The best we can do is always win  and learn that all')\n",
    "        \n",
    "fun()"
   ]
  },
  {
   "cell_type": "code",
   "execution_count": 6,
   "id": "1d71ce50",
   "metadata": {},
   "outputs": [
    {
     "name": "stdout",
     "output_type": "stream",
     "text": [
      "odd\n"
     ]
    }
   ],
   "source": [
    "def even_odd(x):\n",
    "    if (x/2==0):\n",
    "        print (\"Even \")\n",
    "    else:\n",
    "        print(\"odd\")\n",
    "even_odd(3)"
   ]
  },
  {
   "cell_type": "code",
   "execution_count": null,
   "id": "fc1e7228",
   "metadata": {},
   "outputs": [],
   "source": []
  }
 ],
 "metadata": {
  "kernelspec": {
   "display_name": "Python 3 (ipykernel)",
   "language": "python",
   "name": "python3"
  },
  "language_info": {
   "codemirror_mode": {
    "name": "ipython",
    "version": 3
   },
   "file_extension": ".py",
   "mimetype": "text/x-python",
   "name": "python",
   "nbconvert_exporter": "python",
   "pygments_lexer": "ipython3",
   "version": "3.11.5"
  }
 },
 "nbformat": 4,
 "nbformat_minor": 5
}
